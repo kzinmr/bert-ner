{
 "cells": [
  {
   "cell_type": "markdown",
   "metadata": {},
   "source": [
    "- 知識ベースを利用した ENE-NER のためのデータセットを整備\n",
    "  - 整備方針は、利用を想定する素性によって決まる"
   ]
  },
  {
   "cell_type": "markdown",
   "metadata": {},
   "source": [
    "# 素性 From [仲野&乾, 2018](https://www.anlp.jp/proceedings/annual_meeting/2018/pdf_dir/A5-4.pdf)\n",
    "\n",
    "![Foo](image1.png)\n",
    "- *5 部分一致から未抽出誤りまでの，固有表現として正しく抽出されなかった誤り数\n",
    "- *6 過抽出も含めた全誤り数\n",
    "\n",
    "## エラー分析\n",
    "\n",
    "tag-wise でなく, chunk-wise に丁寧に評価\n",
    "- 再現率低下(正解の固有表現を基準とした誤り; FN寄与)\n",
    "  - 正解との部分一致; **知識依存**\n",
    "  - クラス誤り: 範囲は完全一致する (FN as not 'O'); **文脈依存**\n",
    "  - 未抽出誤り: チャンクを抽出できなかった誤り (FN as 'O'); **知識依存**\n",
    "- 適合率低下(FP寄与)\n",
    "  - 過抽出誤り: **文脈依存**\n",
    "    - as 'O'\n",
    "    - as not 'O' ⊃ サブセットでない固有表現クラスの一部に誤検出\n",
    "\n",
    "改良方針:\n",
    "- 知識依存: 全体の抽出性能を底上げするような素性の提案 → **Gazetteer 素性**\n",
    "- 文脈依存: 複合語等長い固有表現や文脈の情報を上手く拾えるような素性の提案 **文節素性**\n",
    "\n",
    "\n",
    "### Gazetteer 素性\n",
    "- Toh ら [7] は 知識ベース内の目標単語が属しているリストの種類を素性とする Gazetteer 素性を追加\n",
    "  - (他にも、外部コーパスの単語クラスタリング結果に対する、単語が所属するクラスタ番号素性を追加)\n",
    " \n",
    "- Gazetteer素性の知識ベースは以下で定義:\n",
    "  - 「エントリ」 := 「Wikipedia のページタイトル」( 形態素基本形 → カテゴリID if any else 0 )\n",
    "  - 「エントリが属するリスト」 := 「Wikipedia のページが属するカテゴリ」  (like ENE)\n",
    "    - Wikipedia 日本語版のダンプから，ページタイトルとページが属するカテゴリの ID が対応している知識べースを作成\n",
    "\n",
    "### 文節素性\n",
    "- 中野ら [9] は，目標トークンの所属文節や隣接する文節の情報を追加\n",
    "  - **所属文節主辞素性**\n",
    "    - 複合語は同文節になりやすい\n",
    "    - 複合語の主辞は文節の主辞になりやすい\n",
    "    - impl. 所属文節の主辞の基本形をクエリとして知識ベースを引き，カテゴリID(汎化素性) else 主辞基本形\n",
    "\n",
    "\n",
    "- 笹野ら [10] は，\n",
    "  - 目標形態素の局所的な情報（窓枠内の形態素の情報）\n",
    "    - **所属文節格助詞素性**\n",
    "    - impl. if 格助詞が存在しない場合 \"N/A\"\n",
    "  - 大域的（文脈的）な情報\n",
    "    - 先行文の同一形態素や共参照関係にある表現\n",
    "    - 所属文節の係り先文節\n",
    "      - **係り先文節主辞素性**\n",
    "        - impl. 係り先文節の主辞の基本形をクエリとして知識ベースを引き，カテゴリID(汎化素性) else 主辞基本形\n",
    "        - impl. if 係り先がない場合 \"N/A\"\n",
    "\n",
    "\n",
    "## 補足. 難易度分析 From [仲野&乾, 2017](https://www.anlp.jp/proceedings/annual_meeting/2017/pdf_dir/A2-2.pdf)\n",
    "\n",
    "### NE_Rate(x, T, D)\n",
    "  - T(x) / (D(x) - T(axb))\n",
    "  - コーパス Dに出現する表現 x のすべてのトークンのうち，クラスセット T に含まれるいずれかの固有表現を表しているトークンの割合\n",
    "  - 値高いほど抽出が容易 (NR = 1 ならば単純な辞書ベースの手法で過不足なく抽出可能)\n",
    "\n",
    "### Majority_Rate(x, S, T, D)\n",
    "  - S_max(x) / T(x)\n",
    "  - 「**人物・組織クラスサブセット**」 S (S ⊂ T) に含まれる固有表現を表しているトークンの中で，最多数を占めるクラスに属するトークンの割合\n",
    "  - 値が高いほど S における固有表現クラスの曖昧性が少なく抽出が容易\n",
    "  \n",
    "\n",
    "\n",
    "\n",
    "\n",
    "### 難易度内訳\n",
    "エラーを4象限に分類・難易度スコア（1, 2, 3）を設定\n",
    "```\n",
    "2(NE_Rate < Majority_Rate) 1\n",
    "3 2(NE_Rate > Majority_Rate)\n",
    "```\n",
    "\n",
    "- NR>MR: コーパス中に出現すれば固有表現を表すことが多いが，固有表現クラス間の曖昧性が大きい（クラス間混同が課題）\n",
    "- NR<MR: 固有表現クラス間の曖昧性は少ないが，固有表現とならないケースが多い（検出が課題）"
   ]
  },
  {
   "cell_type": "markdown",
   "metadata": {},
   "source": []
  },
  {
   "cell_type": "markdown",
   "metadata": {},
   "source": [
    "\n",
    "# 素性抽出仕様\n",
    "\n",
    "- 前処理\n",
    "  - 文節まとめ上げ、主辞処理（主辞代表表記?）\n",
    "  - 係り受け解析\n",
    "  - 文節素性抽出器\n",
    "    - **所属文節格助詞素性**\n",
    "\n",
    "## 素性仕様\n",
    "- ベース素性\n",
    "  - 窓幅両側2\n",
    "  - 形態素表層素性\n",
    "  - 形態素品詞素性\n",
    "\n",
    "- 知識ベース処理(「拡張固有表表現＋Wikipedia」データ)\n",
    "  - **Gazetteer素性** 抽出器 (形態素単位)\n",
    "    - 単一形態素 -> ENE-TYPE\n",
    "    - 単一形態素 -> カテゴリID (optional)\n",
    "  - 文節素性抽出器\n",
    "    - **所属文節主辞素性**\n",
    "    - **係り先文節主辞素性**\n",
    "\n",
    "- 注. 文字単位素性 -> 単語単位素性にしている\n"
   ]
  },
  {
   "cell_type": "code",
   "execution_count": null,
   "metadata": {},
   "outputs": [],
   "source": []
  },
  {
   "cell_type": "markdown",
   "metadata": {},
   "source": [
    "# KNP( `-bnst` )ベースのチャンキング\n",
    "\n",
    "文節内の連続する **名詞・接頭辞** に `B-NP` , `I-NP` をふる\n",
    "\n",
    "- なんのための名詞句チャンキングか\n",
    "  - キーワード抽出: 非構成的複合語の抽出\n",
    "    - 教師データ必要\n",
    "    - あるいは構成性を何らか定義する必要 (例. 構成性スコア `df(AB) / df(A)df(B)` )\n",
    "  - 品詞区切りとしての名詞句（人間の字義通りの解釈を模倣）: 形式的定義でおおよそよい\n",
    "\n",
    "- 考えられる形式的な名詞句の定義方法:\n",
    "  - 0. 長い名詞句: 修飾要素も含めると保守的にとりすぎる\n",
    "     - 「AのB」\n",
    "     - 「連体修飾節A + B」\n",
    "       - 「連体形複合辞（〜における、〜による）A + B」\n",
    "  - 1. 文節内の連続する 名詞・接頭辞・<複合←> にふる（付属語を落とす）\n",
    "     - 「AのB」「連体修飾節A + B」のような文節で区切られる名詞句が落ちる\n",
    "     - 文節で区切られる「A B」名詞句のパターンを区別できる（ 業者|各数人 ）\n",
    "     - 「バラク・オバマ」:（・: 付属語だが、<複合←> でとれる）\n",
    "\n",
    "  - 2. 文節内の連続する <内容語><準内容語><複合←> にふる\n",
    "     - 意味の弱い接頭辞・接尾辞が落ちる ( ご返事 -> 返事, 約半分 -> 半分, 加藤さん -> 加藤 )\n",
    "\n",
    "\n",
    "\n",
    "- 文節の定義 := {begin: <文節始> の形態素, end: <文末>形態素 または 次の <文節始> が始まる前の形態素}\n",
    "  - 基本的に <接頭> （接頭辞，括弧始） が一番強い <文節始>\n",
    "  - 次いで <自立> が強い <文節始>\n",
    "  - 逆に <付属> は <文節始> になり得ない\n",
    "  - <複合←> も <文節始> になり得ない：<接頭>・<自立> が状況的に <文節始>になり得ないことを表す\n",
    "    - Ｔ自立間連結 := 自立(→)，自立(←)にはさまれる 付属(←→)，接頭(←→)\n",
    "    - (自立／Ｔ自立間連結(→)) (自立／Ｔ自立間連結(←)) の時，後者に<複合←>を与える\n",
    "  - 誤って文節分かれる名詞句 AB のパターン: 名詞と名詞性形容詞語幹, その他品詞誤り\n",
    "    - '西郷(名詞)隆盛(形容詞)' '新党(名詞)平和(形容詞)'\n",
    "  \n",
    "- 名詞\n",
    "- 接頭辞\n",
    "- 付属語\n",
    "  - 助動詞\n",
    "  - 接尾辞\n",
    "  - 判定詞\n",
    "  - 助詞\n",
    "  - 特殊\n",
    "    - (句点 読点 括弧終)\n",
    "    - 各種記号\n",
    "    - (＝ ・ ＆ ― ‐ … ‥ ―― …… ー 〜)\n",
    "    - (↓ ↑ → ←)\n",
    "    - (？ ！ ♪ ★ ☆)\n",
    "    - (　)"
   ]
  },
  {
   "cell_type": "code",
   "execution_count": 22,
   "metadata": {},
   "outputs": [
    {
     "data": {
      "text/plain": [
       "{'tokens': ['バラク', '・', 'オバマ', '大統領', 'が', 'ホワイトハウス', '入り', 'した'],\n",
       " 'tags': ['B-NP', 'I-NP', 'I-NP', 'I-NP', 'O', 'B-NP', 'I-NP', 'O']}"
      ]
     },
     "execution_count": 22,
     "metadata": {},
     "output_type": "execute_result"
    }
   ],
   "source": [
    "from itertools import chain\n",
    "from pyknp import KNP\n",
    "from knp_base import KnpBase, KnpError\n",
    "\n",
    "\n",
    "def __is_jiritsu(mrph):\n",
    "    return ('<内容語>' in mrph.fstring or '<準内容語>' in mrph.fstring or '<複合←>' in mrph.fstring)\\\n",
    "        and (mrph.hinsi in {'名詞', '接尾辞', '接頭辞', '特殊'} or '<名詞的形容詞語幹>' in mrph.fstring)\n",
    "\n",
    "def __extract_jiritsu(bnst):\n",
    "    return [__is_jiritsu(m) for m in bnst.mrph_list()]\n",
    "\n",
    "def annotate_np(blist):\n",
    "    flags = chain.from_iterable([__extract_jiritsu(b) for b in blist])\n",
    "    tags = []\n",
    "    current_tag = 'O'\n",
    "    for f in flags:\n",
    "        if not f:\n",
    "            tags.append('O')\n",
    "            current_tag = 'O'\n",
    "        elif current_tag == 'O':\n",
    "            tags.append('B-NP')\n",
    "            current_tag = 'B-NP'\n",
    "        else:\n",
    "            tags.append('I-NP')\n",
    "\n",
    "    return tags\n",
    "\n",
    "\n",
    "knp = KnpBase(knp=KNP(jumanpp=True, option='-bnst -tab'))\n",
    "sentence = 'バラク・オバマ大統領がホワイトハウス入りした'\n",
    "blist = knp.parse(sentence)\n",
    "np_tags = annotate_np(blist)\n",
    "tokens = [m.midasi for m in blist.mrph_list()]\n",
    "{'tokens': tokens, 'tags': np_tags}"
   ]
  },
  {
   "cell_type": "markdown",
   "metadata": {},
   "source": [
    "以上の素性を抽出できるように、以下既存データを処理していく\n",
    "- 既存データ: [BCCWJ+拡張固有表現データ](https://www.gsk.or.jp/catalog/gsk2014-a/) の形態素単位をJumanppによるものに置き換えたもの\n",
    "  - 'gsk-ene-1.1-bccwj-json-jumanpp-type/bccwj-ene-jumanpp-type.txt'"
   ]
  },
  {
   "cell_type": "code",
   "execution_count": null,
   "metadata": {},
   "outputs": [],
   "source": []
  },
  {
   "cell_type": "markdown",
   "metadata": {},
   "source": [
    "# 「人物・組織クラスサブセット」データ From [仲野&乾, 2017](https://www.anlp.jp/proceedings/annual_meeting/2017/pdf_dir/A2-2.pdf)\n",
    "\n",
    "\n",
    "第１階層（大文字）では５種類\n",
    "\n",
    "第２階層（小文字）では 40 種類\n",
    "\n",
    "cf.\n",
    "GPE: (政府を持つ地域名), GOE: (組織名の属性を持つ施設)\n",
    "\n",
    "- PERSON\n",
    "  - Person\n",
    "- ORGNIZATION\n",
    "  - Organization_Other\n",
    "  - International_Organization\n",
    "  - Show_Organization\n",
    "  - Family\n",
    "  - Ethnic_Group_Other\n",
    "  - Nationality\n",
    "  - Sports_Organization_Other\n",
    "  - Pro_Sports_Organization\n",
    "  - Sports_League\n",
    "  - Corporation_Other\n",
    "  - Company\n",
    "  - Company_Group\n",
    "  - Political_Organization_Other\n",
    "  - Government\n",
    "  - Political_Party\n",
    "  - Cabinet\n",
    "  - Military\n",
    "- GPE\n",
    "  - GPE_Other\n",
    "  - City\n",
    "  - County\n",
    "  - Province\n",
    "  - Country\n",
    "- GOE\n",
    "  - GOE_Other\n",
    "  - Public_Institution\n",
    "  - School\n",
    "  - Research_Institute\n",
    "  - Market\n",
    "  - Park\n",
    "  - Sports_Facility\n",
    "  - Museum\n",
    "  - Zoo\n",
    "  - Amusement_Park\n",
    "  - Theater\n",
    "  - Worship_Place\n",
    "  - Car_Stop\n",
    "  - Station\n",
    "  - Airport\n",
    "  - Port\n",
    "- POSITION_VOCATION\n",
    "  - Position_Vocation\n",
    "  "
   ]
  },
  {
   "cell_type": "code",
   "execution_count": 1,
   "metadata": {},
   "outputs": [],
   "source": [
    "ENE_SUBSET = {\n",
    "#     'NAME':\n",
    "#     {\n",
    "#         'Name_Other': {},\n",
    "        'Person': 'PERSON',\n",
    "#         'God': {},\n",
    "#         'Organization': \n",
    "#         {\n",
    "            'Organization_Other': 'ORGNIZATION',\n",
    "            'International_Organization': 'ORGNIZATION',\n",
    "            'Show_Organization': 'ORGNIZATION',\n",
    "            'Family': 'ORGNIZATION',\n",
    "#             'Ethnic_Group':\n",
    "#             {\n",
    "                'Ethnic_Group_Other': 'ORGNIZATION',\n",
    "                'Nationality': 'ORGNIZATION',\n",
    "#             },\n",
    "#             'Sports_Organization':\n",
    "#             {\n",
    "                'Sports_Organization_Other': 'ORGNIZATION',\n",
    "                'Pro_Sports_Organization': 'ORGNIZATION',\n",
    "                'Sports_League': 'ORGNIZATION',\n",
    "#             },\n",
    "#             'Corporation': \n",
    "#             {\n",
    "                'Corporation_Other': 'ORGNIZATION',\n",
    "                'Company': 'ORGNIZATION',\n",
    "                'Company_Group': 'ORGNIZATION',\n",
    "#             },\n",
    "#             'Political_Organization':\n",
    "#             {\n",
    "                'Political_Organization_Other': 'ORGNIZATION',\n",
    "                'Government': 'ORGNIZATION',\n",
    "                'Political_Party': 'ORGNIZATION',\n",
    "                'Cabinet': 'ORGNIZATION',\n",
    "                'Military': 'ORGNIZATION',\n",
    "#             }\n",
    "#         },\n",
    "#         'Location': \n",
    "#         {\n",
    "#             'GPE':\n",
    "#             {\n",
    "                'GPE_Other': 'GPE',\n",
    "                'City': 'GPE',\n",
    "                'County': 'GPE',\n",
    "                'Province': 'GPE',\n",
    "                'Country': 'GPE',\n",
    "#             },\n",
    "#         'Facility': \n",
    "#         {\n",
    "#             'GOE':\n",
    "#             {\n",
    "                'GOE_Other': 'GOE',\n",
    "                'Public_Institution': 'GOE',\n",
    "                'School': 'GOE',\n",
    "                'Research_Institute': 'GOE',\n",
    "                'Market': 'GOE',\n",
    "                'Park': 'GOE',\n",
    "                'Sports_Facility': 'GOE',\n",
    "                'Museum': 'GOE',\n",
    "                'Zoo': 'GOE',\n",
    "                'Amusement_Park': 'GOE',\n",
    "                'Theater': 'GOE',\n",
    "                'Worship_Place': 'GOE',\n",
    "                'Car_Stop': 'GOE',\n",
    "                'Station': 'GOE',\n",
    "                'Airport': 'GOE',\n",
    "                'Port': 'GOE',\n",
    "#             },\n",
    "#         },\n",
    "#         'Product': \n",
    "#         {\n",
    "#             'Title':\n",
    "#             {\n",
    "#                 'Title_Other': {},\n",
    "                'Position_Vocation': 'POSITION_VOCATION'\n",
    "#             },\n",
    "#         },\n",
    "#     },\n",
    "}"
   ]
  },
  {
   "cell_type": "code",
   "execution_count": null,
   "metadata": {},
   "outputs": [],
   "source": []
  },
  {
   "cell_type": "markdown",
   "metadata": {},
   "source": [
    "# [「拡張固有表表現＋Wikipedia」データ](http://www.languagecraft.com/enew/), [paper, 2016](https://www.anlp.jp/proceedings/annual_meeting/2016/pdf_dir/P2-4.pdf)\n",
    "\n",
    "２種のデータが同梱\n",
    "- ENE+Wデータ\n",
    "- Wikipedia構造化データ\n",
    "\n",
    "### Wikipedia構造化データ（定義）\n",
    "- SID\t本データにおけるID\n",
    "- entry\t項目名\n",
    "- clean_entry\t標準化された項目名 ( **KEY** )\n",
    "  - 例. \"entry\": \"EU (曖昧さ回避)\", \"clean_entry\": \"EU\"\n",
    "- category_info\tWikipediaのカテゴリー情報 ( **VALUE2** )\n",
    "- (wikipedia_ID\tWikipediaのID)\n",
    "- page_property: **Normal** を絞り込むのに使う\n",
    "  - 'Normal': 943512 件\n",
    "  - 'Disambiguation': 「曖昧さ回避」 (40378 件)\n",
    "  - 'Redirect': 「リダイレクト」(594036 件)\n",
    "  - 'List': 「〜の一覧」(10464 件)\n",
    "\n",
    "### ENE+Wデータ（定義）\n",
    "- SID\t本データにおけるID\n",
    "- ENE\t拡張固有表現 ( **VALUE1** )\n"
   ]
  },
  {
   "cell_type": "markdown",
   "metadata": {},
   "source": []
  },
  {
   "cell_type": "code",
   "execution_count": 156,
   "metadata": {},
   "outputs": [
    {
     "data": {
      "text/plain": [
       "(943508, 644776)"
      ]
     },
     "execution_count": 156,
     "metadata": {},
     "output_type": "execute_result"
    }
   ],
   "source": [
    "import json\n",
    "\n",
    "\n",
    "sid2dict = {}\n",
    "with open('ENEW_StructuredWikipedia_20160305.txt') as f:\n",
    "    for line in f:\n",
    "        jd = json.loads(line)\n",
    "        if jd[\"page_property\"] == \"Normal\":\n",
    "            sid2dict[jd['SID']] = {'entry': jd['entry'], 'clean_entry': jd['clean_entry'], 'category_info': jd['category_info']}\n",
    "not_founds = []\n",
    "with open('ENEW_ENEtag_20160305.txt') as f:\n",
    "    for line in f:\n",
    "        jd = json.loads(line)\n",
    "        if jd['SID'] in sid2dict:\n",
    "            sid2dict[jd['SID']].update({'ENE': jd['ENE']})\n",
    "        else:\n",
    "            not_founds.append(jd[\"SID\"])\n",
    "#             print(f'{jd[\"SID\"]} not found in ENEW_Struct...')\n",
    "len(sid2dict), len(not_founds)  # 1588284 -> 1079271 if 'ENE' > 0,  -> 943508 if 'Normal' -> 640506 if 'ENE' > 0"
   ]
  },
  {
   "cell_type": "code",
   "execution_count": 157,
   "metadata": {},
   "outputs": [
    {
     "data": {
      "text/plain": [
       "640506"
      ]
     },
     "execution_count": 157,
     "metadata": {},
     "output_type": "execute_result"
    }
   ],
   "source": [
    "len([k for k, v in sid2dict.items() if v['ENE']])"
   ]
  },
  {
   "cell_type": "code",
   "execution_count": 158,
   "metadata": {},
   "outputs": [],
   "source": [
    "# copied from https://sites.google.com/site/extendednamedentity711/top以下の階層の全リスト\n",
    "\n",
    "s = \"\"\"ENE | 例 | ENE英語表記\n",
    "-- | -- | --\n",
    "名前_その他 | たま,  ポチ,  オグリキャップ,  トントン | Name_Other\n",
    "人名 | 岡本文弥,  カーン,  長門美保,  フォスター,  武帝 | Person\n",
    "神名 | アテネ,  インドラ,  ゼウス,  大国主命,  帝釈天 | God\n",
    "組織名(Organizaton) | 組織名_その他 | 総務課,  孔門の十哲,  向田ファミリー,  精華町町内会,  第二工学部 | Organization_Other\n",
    "国際組織名 | 国際連盟,  イスラム諸国会議機構,  南太平洋フォーラム,  東南アジア条約機構 | International_Organization\n",
    "公演組織名 | クリーブランド管弦楽団,  ビージーズ,  ボリショイ・バレエ団 | Show_Organization\n",
    "家系名 | 久我氏,  清水家,  近衛家,  伏見宮家 | Family\n",
    "民族名(Ethnic_Group) | 民族名_その他 | ケルト人,  モンゴロイド,  トラジャ（人）,  チェコ人,  アフリカーナー | Ethnic_Group_Other\n",
    "国籍名 | イスラエル人,  アメリカ人,  日本国籍 | Nationality\n",
    "競技組織名(Sports_Organization) | 競技組織名_その他 | 野良黒山の会,  桐山部屋,  馬家軍,  全日本,  グリーンツダ | Sports_Organization_Other\n",
    "プロ競技組織名 | 読売ジャイアンツ,  ＡＣミラン,  鹿島アントラーズ,  ニューヨーク・ヤンキース | Pro_Sports_Organization\n",
    "競技リーグ名 | ＮＢＡ,  セリエＡ,  セントラル・リーグ,  日本プロサッカーリーグ,  アイビー・リーグ | Sports_League\n",
    "法人名(Corporation) | 法人名_その他 | 日本弁護士連合会,  宇宙開発事業団,  冷泉家時雨亭文庫,  日本相撲協会 | Corporation_Other\n",
    "企業名 | ＢＭＷ,  富士電機（株）,  三菱銀行,  トステム（株）,  岩波書店（株） | Company\n",
    "企業グループ名 | 三井財閥,  住友財閥,  日産コンツェルン,  ロックフェラー財閥,  デュポン財閥 | Company_Group\n",
    "政治的組織名(Political_Organization) | 政治的組織名_その他 | 竹下派,  奥羽越列藩同盟,  公明市議団,  自民党府連 | Political_Organization_Other\n",
    "政府組織名 | 文部省,  経済企画庁,  韓国中央情報部,  気象庁,  ナイ委員会 | Government\n",
    "政党名 | ロシア共産党,  新党さきがけ,  日本新党,  共和党,  中国国民党 | Political_Party\n",
    "内閣名 | 田中角栄内閣,  原敬内閣,  小渕恵三内閣,  三木武夫内閣,  西園寺公望内閣 | Cabinet\n",
    "軍隊名 | 自衛隊,  アメリカ空軍,  国連軍,  多国籍軍,  連合軍 | Military\n",
    "地名(Location) | 地名_その他 | タイムズ・スクエア,  グランド・ゼロ,  日本三景,  天国,  エデンの園 | Location_Other\n",
    "温泉名 | 月ヶ瀬温泉,  遠刈田温泉,  白馬温泉,  福地温泉,  湯の山温泉 | Spa\n",
    "ＧＰＥ(GPE) | GPE_その他 | パレスチナ自治地域,  台湾,  大阪府・市,  仏領ポリネシア | GPE_Other\n",
    "市区町村名 | 月形（町）,  五箇（村）,  レッチワース,  ブランドン,  リオ・デ・ジャネイロ | City\n",
    "郡名 | 真番郡,  帯方郡,  巨摩,  金堤,  固城 | County\n",
    "都道府県州名 | 群馬（県）,  カンザス,  ニューヨーク（州）,  熊本（県）,  アルトア | Province\n",
    "国名 | アラブ首長国連邦,  オーストラリア,  西サモア,  コートジボアール,  唐 | Country\n",
    "地域名(Region) | 地域名_その他 |   | Region_Other\n",
    "大陸地域名 | オリエント,  北アフリカ,  ゴンドワナ大陸,  バビロニア,  陸半球 | Continental_Region\n",
    "国内地域名 | 奥羽地方,  中部地方,  カルナティック,  ボスニア,  可美 | Domestic_Region\n",
    "地形名(Geological_Region) | 地形名_その他 | アルタミラ洞窟,  野島断層,  秋芳洞,  阿波の土柱,  利根川構造線 | Geological_Region_Other\n",
    "山地名 | 富士山,  間ノ岳,  青崩峠,  中央アルプス,  木曽駒ケ岳 | Mountain\n",
    "島名 | ラクシャドウィープ諸島,  友ヶ島,  大スンダ列島,  西表島,  沖縄諸島 | Island\n",
    "河川名 | 早出川,  アーレ川,  マージー川,  千種川,  ダニューブ川 | River\n",
    "湖沼名 | 大浪池,  グレート湖,  シルヤン湖,  丸沼,  サロマ湖 | Lake\n",
    "海洋名 | 日本海,  バルト海,  周防灘,  関門海峡,  ホルムズ海峡 | Sea\n",
    "湾名 | シェレホフ湾,  浦戸湾,  九十九湾,  ピョートル大帝湾,  ベンガル湾 | Bay\n",
    "天体名(Astral_Body) | 天体名_その他 | 銀河系,  太陽系,  獅子座流星群 | Astral_Body_Other\n",
    "恒星名 | アケルナル,  ウォルフ‐ライエ星,  カノープス,  ベガ,  レグルス | Star\n",
    "惑星名 | 木星,  土星,  海王星,  ベスタ,  イカルス | Planet\n",
    "星座名 | いて座,  エリダヌス座,  きりん座,  こと座,  ほうおう座 | Constellation\n",
    "アドレス(Address) | アドレス_その他 |   | Address_Other\n",
    "郵便住所 | 東京都目黒区大岡山２－１２－１,  １２３－００４５,  富士見町３－２ | Postal_Address\n",
    "電話番号 | ３７２６－１１１１,  （０３）３２６９―３４７１,  内線１２３,  １１０番 | Phone_Number\n",
    "電子メイル | ｓｅｋｉｎｅ＠ｃｓ．ｎｙｕ．ｅｄｕ | Email\n",
    "URL | ｈｔｔｐ：／／ｃｓ．ｎｙｕ．ｅｄｕ／～ｓｅｋｉｎｅ | URL\n",
    "施設名(Facility) | 施設名_その他 | 雄勝柵,  春草廬,  唐人屋敷,  三蔵,  ヘンドリク・フェアウールト・ダム | Facility_Other\n",
    "施設部分名 | ８階,  南口,  １２０４号室,  華の間,  ハチ公口,  南ウィング | Facility_Part\n",
    "遺跡名(Archaeological_Place) | 遺跡名_その他 | トゥルカナ遺跡,  犬伏瓦経塚,  貔子窩,  高根木戸遺跡群,  ニップール | Archaeological_Place_Other\n",
    "古墳名 | 那須八幡塚古墳,  岩戸山古墳,  新山古墳,  チブサン古墳,  昭陵 | Tumulus\n",
    "GOE(GOE) | GOE_その他 | ホワイトハウス,  帝国ホテル,  葵文庫,  赤坂離宮,  横田基地 | GOE_Other\n",
    "公共機関名 | 黒中央郵便局,  東京家庭裁判所,  新宿駅西口交番,  高槻市役所 | Public_Institution\n",
    "学校名 | プリンストン大学,  ローマ大学,  香川医科大学,  青山学院大学,  明治大学 | School\n",
    "研究機関名 | ストックホルム国際平和研究所,  グリニッジ天文台,  種子島宇宙センター | Research_Institute\n",
    "取引所名 | 東京証券取引所,  関西商品取引所,  神戸生糸取引所 | Market\n",
    "公園名 | 上信越高原国立公園,  ザイオン国立公園,  旧円覚寺庭園,  小石川後楽園 | Park\n",
    "競技施設名 | 東京ドーム,  花園ラグビー場,  石打丸山スキー場,  鳥羽CC | Sports_Facility\n",
    "美術博物館名 | ルーブル美術館,  ボストン美術館,  東京国立博物館,  日本民俗資料館 | Museum\n",
    "動植物園名 | 上野動物園,  ヒールズビル野生動物公園,  ニューヨーク動物公園 | Zoo\n",
    "遊園施設名 | 東京ディズニーランド,  こどもの国,  チボリ公園,  ユネスコ村 | Amusement_Park\n",
    "劇場名 | 明治座,  ボリショイ劇場,  パリ・オペラ座,  メトロポリタン歌劇場 | Theater\n",
    "神社寺名 | 寿福寺,  サン・ドニ修道院,  円教寺,  多度神社,  スルタン・ハッサン・モスク | Worship_Place\n",
    "停車場名 | 秋保神社前,  京都駅パーキングエリア,  海老名サービスエリア | Car_Stop\n",
    "電車駅名 | 東京駅,  大阪駅 | Station\n",
    "空港名 | 東京国際空港,  ジョン・エフ・ケネディ国際空港,  オヘア国際空港 | Airport\n",
    "港名 | 神戸港,  安濃津,  十三湊,  韓泊,  横瀬浦 | Port\n",
    "路線名(Line) | 路線名_その他 | 駒ケ岳ロープウェイ,  シルク・ロード | Line_Other\n",
    "電車路線名 | 関西本線,  山口線,  東海道本線,  釧網本線,  宝成線 | Railroad\n",
    "道路名 | 中国横断自動車道,  シルク・ロード,  ブロードウェー,  オペラ座通り,  山辺の道 | Road\n",
    "運河名 | スエズ運河,  アムステルダム運河,  見沼通船堀,  セント・ローレンス水路 | Canal\n",
    "航路名 | 西廻海運,  エンパイア・ルート,  青函航路,  宇高航路,  海の道 | Water_Route\n",
    "トンネル名 | アペニン・トンネル,  清水トンネル,  丹那トンネル,  モファット・トンネル | Tunnel\n",
    "橋名 | 瀬戸大橋,  ロンドン・ブリッジ,  万世橋,  天草五橋,  クイーンズボロ橋 | Bridge\n",
    "製品名(Product) | 製品名_その他 | サランラップ,  博多人形,  縄文土器,  警察権,  金メダル,  ＧＤＰ,  米国債 | Product_Other\n",
    "材料名 | ポリビニルピロリドン,  ジェット燃料,  クロムグリーン,  ナフトール染料,  オクトーゲン | Material\n",
    "衣類名 | 菅笠,  木沓,  沖着物,  甲掛,  晴れ着 | Clothing\n",
    "貨幣名 | ソリドゥス金貨,  デナリウス貨,  王莽銭,  アッシニャ | Money_Form\n",
    "医薬品名 | 経口血糖降下薬,  アセタゾラミド,  男性ホルモン剤,  サルファ剤,  プロベネシド | Drug\n",
    "武器名 | 軌道爆弾,  スプリングフィールド銃,  自走砲,  巡航ミサイル,  火炎びん | Weapon\n",
    "株名 | ＮＴＴ株,  ナビスコ株,  タテホ株,  リクルートコスモス株 | Stock\n",
    "賞名 | ノーベル賞,  アカデミー賞,  国民栄誉賞,  ピュリッツァー賞,  フィールズ賞 | Award\n",
    "勲章名 | 文化勲章,  ガーター勲章,  レーニン勲章,  賜杯,  ブルーリボン | Decoration\n",
    "罪名 | 住居侵入罪,  収賄罪,  殺人罪,  不敬罪,  マネー・ロンダリング | Offense\n",
    "便名 | ノースウエスト６９便,  ひかり４０号,  インドネシア航空８７２便 | Service\n",
    "等級名 | ４級,  八段,  トリプルA,  黒帯,  女子４８キロ級,  一軍 | Class\n",
    "キャラクター名 | ミッキー・マウス,  ポパイ,  シンデレラ,  黄金バット | Character\n",
    "識別番号 | IE１２３４－５６７８,  クモハ１２３－４５６７ | ID_Number\n",
    "乗り物名(Vehicle) | 乗り物名_その他 | ラクーン,  ハーレーダビッドソン,  ウイングカスタム,  Wave125i | Vehicle_Other\n",
    "車名 | カローラ,  プリマス・フューリI,  そよかぜ号 | Car\n",
    "列車名 | ロコモーション号,  弁慶号,  一号機関車,  ペンドリーノ,  ＳＥ車,   零戦 | Train\n",
    "飛行機名 | フライヤー号,  紫電改,  スピリット・オブ・セントルイス号,  ＦＳＸ | Aircraft\n",
    "宇宙船名 | スペースシャトル,  ウォストーク,  サリュート,  スプートニク,  ミール | Spaceship\n",
    "船名 | クイーン・エリザベス号,  日本丸,  ノルマンディー号,  武蔵,  高瀬舟 | Ship\n",
    "食べ物名(Food) | 食べ物名_その他 | 米,  リンゴ,  水 | Food_Other\n",
    "料理名 | 赤飯,  弁当,  流動食,  粥,  桶茶 | Dish\n",
    "芸術作品名(Art) | 芸術作品名_その他 | ミロのヴィーナス,  聖徳太子絵伝,  聖観音菩薩像 | Art_Other\n",
    "絵画名 | ゲルニカ,  モナ・リザ,  冨嶽三十六景,  イーゼンハイム祭壇画,  彦根屏風 | Picture\n",
    "番組名 | 紅白歌合戦,  街頭録音 | Broadcast_Program\n",
    "映画名 | 七人の侍,  モダン・タイムス,  ゴジラ男はつらいよ,  第三の男 | Movie\n",
    "公演名 | おふくろ,  隅田川続俤,  通小町,  明日の幸福,  鰍沢 | Show\n",
    "音楽名 | 動物の謝肉祭,  おけさ節,  魔弾の射手,  ルスランとリュドミラ,  木更津甚句 | Music\n",
    "文学名 | アンタル物語,  蔭凉軒日録,  食道楽,  長ぐつ下のピッピ,  立花大全 | Book\n",
    "出版物名(Printing) | 出版物名_その他 | 京都大学入学案内書,  ポケモンカレンダー,  アマルナ文書 | Printing_Other\n",
    "新聞名 | 信濃毎日新聞,  ジャパンタイムズ,  官板バタヒヤ新聞,  東亜日報,  デーリー・ミラー | Newspaper\n",
    "雑誌名 | 主婦の友,  四季,  ナショナル・ジオグラフィック,  馬酔木,  フォーリン・アフェアーズ | Magazine\n",
    "主義方式名(Doctrine_Method) | 主義方式名_その他 | 民主主義,  護送船団方式,  育児休暇制,  アラビア文字,  ユダヤ暦,  足入れ婚 | Doctrine_Method_Other\n",
    "文化名 | アシュール文化,  アンデス文明,  アメリカ美術 | Culture\n",
    "宗教名 | イスラム教,  吉田神道,  天照皇大神宮教,  モルモン教,  シーア派 | Religion\n",
    "学問名 | 温泉化学,  言語美学,  材料力学,  農芸化学,  量子エレクトロニクス | Academic\n",
    "競技名 | 軟式テニス,  ドッジボール,  クロスカントリー・レース,  キックボクシング, かるた会 | Sport\n",
    "流派名 | 一羽流,  美濃派,  文法学派,  甲源一刀流,  小原流 | Style\n",
    "運動名 | ベトナム反戦運動,  沖縄復帰運動,  光州学生運動 | Movement\n",
    "理論名 | 相対性理論,  進化論,  プレートテクトニクス理論 | Theory\n",
    "政策計画名 | アポロ計画,  情報スーパーハイウェー構想,  ニューディール政策 | Plan\n",
    "規則名(Rule) | 規則名_その他 | 公示の原則,  戦後五十年国会決議,  民法改正要綱試案 | Rule_Other\n",
    "条約名 | 国際人権規約,  薩土盟約,  モスクワ協定,  パヒキナサーリ条約,  ビョルケ密約 | Treaty\n",
    "法令名 | 家電リサイクル法,  御成敗式目,  労働基準法,  イスラエル破壊条項,  ２％条項 | Law\n",
    "称号名(Titile) | 称号名_その他 | さん,  様,  氏,  ちゃん,  君,  殿,  夫人 | Title_Other\n",
    "地位職業名 | 内閣総理大臣,  奈良奉行,  大関,  栄養士,  商人 | Position_Vocation\n",
    "言語名(Language) | 言語名_その他 | 印欧語族,  ウラル・アルタイ語族,  大阪弁 | Language_Other\n",
    "国語名 | 英語,  満州語,  ハンガリー語,  スウェーデン語,  チャム語 | National_Language\n",
    "単位名(Unit) | 単位名_その他 | アンペア,  ニュートン,  ビット,  ロックウェル硬さ,  連 | Unit_Other\n",
    "通貨単位名 | 円,  ドル,  ウォン,  フラン,  ユーロ | Currency\n",
    "イベント名(Event) | イベント名_その他 | 第一次ベビーブーム,  アジア通貨危機,  北方領土問題 | Event_Other\n",
    "催し物名(Occasion) | 催し物名_その他 | 筑波科学万博,  春のブライダルフェア‘９５,  ノーベル賞授賞式,  江戸の浮世絵展 | Occasion_Other\n",
    "例祭名 | 端午の節供,  灯籠流し,  海神祭,  曲水宴,  チャンココ | Religious_Festival\n",
    "競技会名 | 東京オリンピック,  ウィンブルドンテニス大会,  ワールドカップ,  国民体育大会 | Game\n",
    "会議名 | ヨーロッパ安保協力会議,  日米構造協議,  アルカディア会談,  世界女性会議, Ｇ７ | Conference\n",
    "事故事件名(Incident) | 事故事件名_その他 | 蘆溝橋事件,  ウォーターゲート事件,  生麦事件,  チャタレイ事件,  東海村臨界事故 | Incident_Other\n",
    "戦争名 | 関ヶ原の戦い,  プロイセン・オーストリア戦争,  中国征伐,  宗教戦争 | War\n",
    "自然現象名(Natural_Phenomenon) | 自然現象名_その他 | シベリア高気圧,  偏西風,  千島海流,  エルニーニョ | Natural_Phenomenon_Other\n",
    "自然災害名 | 伊勢湾台風,  諫早豪雨,  雲仙普賢岳噴火災害,  寛永の飢饉 | Natural_Disaster\n",
    "地震名 | アラスカ地震,  チリ地震,  長野県西部地震,  三河地震,  ルーマニア地震 | Earthquake\n",
    "自然物名(Natural_Object) | 自然物名_その他 |   | Natural_Object_Other\n",
    "元素名 | 酸素,   水素,   ヘリウム,  ルビジウム | Element\n",
    "化合物名 | 塩酸,  フッ酸,  臭化アセチル,  多価アルコール,  メタロセン | Compound\n",
    "鉱物名 | 苦土橄欖石,  硬マンガン鉱,  フェルグソン石,  自然銅,  芋子石 | Mineral\n",
    "生物名(Living_Thing) | 生物名_その他 | インフルエンザ菌,  アンモニア化成菌,  発酵菌,  コクサッキーウイルス,  硝化細菌 | Living_Thing_Other\n",
    "真菌類名 | ドクベニタケ,  ワタカビ,  バンダイキノリ,  キヌガサタケ,  ケカビ | Fungus\n",
    "軟体動物_節足動物名 | コブシガニ,  サザエ,  ヤナギダコ,  アカヒトデ,  トゲサンゴ | Mollusc_Arthropod\n",
    "昆虫類名 | ウラミスジシジミ,  シンクイガ,  トコジラミ,  マイマイカブリ,  ヤノネカイガラムシ | Insect\n",
    "魚類名 | ニゴイ,  オヒョウ,  ホシザメ,  ヒメマス,  カワビシャ | Fish\n",
    "両生類名 | サンショウウオ,  ツノガエル,  イボイモリ,  トウキョウダルマガエル,  アンヒューマ | Amphibia\n",
    "爬虫類名 | ワニガメ,  アホロテトカゲ,  ヨロイハブ,  エリマキトカゲ,  クロコダイル | Reptile\n",
    "鳥類名 | クジャク,  ナベヅル,  クロコシジロウミツバメ,  カンムリツクシガモ,  ウミアイサ | Bird\n",
    "哺乳類名 | アメリカバイソン,  モウコウマ,  ハタリス,  オオマメジカ,  紀州犬 | Mammal\n",
    "植物名 | バラ,  松,  チューリップ,  クローバー | Flora\n",
    "生物部位名(Living_Thing_Part) | 生物部位名_その他 | 細胞,   染色体,   伝令RNA,   DNA | Living_Thing_Part\n",
    "動物部位名 | ロレンチーニ器官,  視神経,  胎盤,  腎管,  つむじ | Animal_Part\n",
    "植物部位名 | 花茎,  雌しべ,  前出葉,  機械組織,  道管 | Flora_Part\n",
    "病気名(Disease) | 病気名_その他 | 黒星病,  むれ苗,  樹病 | Disease_Other\n",
    "動物病気名 | ＷＰＷ症候群,  結節性多発動脈炎,  歯肉炎,  乳癌,  膀胱結核 | Animal_Disease\n",
    "色名(Color) | 色名_その他 | 江戸紫,  べに色,  韓紅花,  猩々緋,  黄丹 | Color_Other\n",
    "自然色名 | 赤,  青,  白,  黒,  黄 | Nature_Color\n",
    "時間表現_その他 |   | Time_Top_Other\n",
    "時間(Timex) | 時間_その他 | 一学期, 後期, ３時間目 | Timex_Other\n",
    "時刻表現 | ３時１０分５０秒, １８：４０, 午後 １８時, 午後６時, 丑三つ時 | Time\n",
    "日付表現 | ２００１年１２月１４日, ５／３１, 平成１４年, ９６年春, こどもの日 | Date\n",
    "曜日表現 | 月曜, 火曜日, 水, 週末 | Day_Of_Week\n",
    "時代表現 | 明治, 昭和, 江戸時代, 原始時代, ソ連時代, 若貴時代, 戦後 | Era\n",
    "期間(Periodx) | 期間_その他 | ３期 | Periodx_Other\n",
    "時刻期間 | ３秒間, １０分間, ５０時間, 一昼夜 | Period_Time\n",
    "日数期間 | １０日間, ３０日間, 半日間, 二晩 | Period_Day\n",
    "週数期間 | 一週間, ５０週間, 週 | Period_Week\n",
    "月数期間 | 一ヶ月間, ４ヶ月間, １箇月間,  ひと月 | Period_Month\n",
    "年数期間 | 一年間, １０年間, ５ヵ年 | Period_Year\n",
    "数値表現_その他 | ８階建て, ２LDK, 二重, Ｖｅｒｓｉｏｎ６．０．５ | Numex_Other\n",
    "金額表現 | １０円, 一万円, 参千円, ５０ドル | Money\n",
    "株指標 | ２６　５／８ | Stock_Index\n",
    "ポイント | １０点, ２２ポイント, １２得点 | Point\n",
    "割合表現 | １００パーセント, 半分, 三分の二, ３割５分 | Percent\n",
    "倍数表現 | ２倍, １．５倍, 百倍 | Multiplication\n",
    "頻度表現 | ３回 , ８度 | Frequency\n",
    "年齢 | ３ヶ月, ５歳, １８才, 還暦, ２０代後半 | Age\n",
    "学齢 | １年生, 中学２年, 高三, 幼稚園児 | School_Age\n",
    "序数 | 第１一次, 第１回, １７代, 第３ラウンド | Ordinal_Number\n",
    "順位表現 | 一位, 優勝, ブービー, ベスト５, ８強 | Rank\n",
    "緯度経度 | 北緯３０度, 西経１３５度２０分 | Latitude_Longtitude\n",
    "寸法表現(Measurement) | 寸法表現_その他 | ２０ワット, ５０フォン, １０デシベル, 小さじ２, A４ | Measurement_Other\n",
    "長さ | ３ミリ, ８ｍｍ, ９メートル, ５里, ８ヤード, ５尺６寸 | Physical_Extent\n",
    "面積 | ２ヘクタール, ３０坪, ７平方メートル | Space\n",
    "体積 | ３５０ｍｌ, １００立方メートル, 一升 | Volume\n",
    "重量 | ３オンス, ５マイクロ, ３パウンド, 十貫, ５トン | Weight\n",
    "速度 | 時速１００キロ, ５０ｋｍ／ｈ, ８９ヘルツ | Speed\n",
    "密度 | ５キログラム毎立方メートル, ３０ｋｇ／立方メートル | Intensity\n",
    "温度 | １５度, 氷点下３℃, 摂氏６度, －２℃ | Temperature\n",
    "カロリー | ２０００カロリー, １２０ｋｃａｌ | Calorie\n",
    "震度 | 震度４, 震度五 | Seismic_Intensity\n",
    "マグニチュード | マグニチュード７．２ | Seismic_Magnitude\n",
    "個数(Countx) | 個数_その他 | ２膳, ３杯, ３言語, １００万画素, １００アクセス, １０ビット | Contx_Other\n",
    "人数 | ３人, 千人, ７選手, ３名人, ６閣僚 | N_Person\n",
    "組織数 | １０産業グループ, １０企業, ６団体, ４組, ８家族 | N_Organization\n",
    "場所数(N_Location) | 場所数_その他 | １０地域, ５領域, 二十三都道府県, １０惑星, ７ヶ所 | N_Location_Other\n",
    "国数 | ２国, 四ヶ国, ３か国 | N_Country\n",
    "施設数 | １０校, １０空港, ８棟, 二万戸 | N_Facility\n",
    "製品数 | １０システム, ２０枚, 五万台, 三十曲, 7冊 | N_Product\n",
    "イベント数 | ５つ, ４件, ３大会, ７０公演, ３勝, ４場所 | N_Event\n",
    "自然物数(N_Natural_Object) | 自然物数_その他 | １０個, １０原子 | N_Natural_Object_Other\n",
    "動物数 | １０匹, １０羽, １０頭 | N_Animal\n",
    "植物数 | １０輪, １０本, １０株 | N_Flora\n",
    "\"\"\"\n",
    "en2ja_ene = dict([(l.split(' | ')[-1], l.split(' | ')[-3]) for l in s.split('\\n') if ' | ' in l and len(l.split(' | '))>2][2:])\n",
    "for k in ENE_SUBSET:\n",
    "    assert k in en2ja_ene\n",
    "ja2en_ene = {v: k for k, v in en2ja_ene.items()}\n"
   ]
  },
  {
   "cell_type": "code",
   "execution_count": 159,
   "metadata": {},
   "outputs": [
    {
     "data": {
      "text/plain": [
       "(200, 200)"
      ]
     },
     "execution_count": 159,
     "metadata": {},
     "output_type": "execute_result"
    }
   ],
   "source": [
    "len(en2ja_ene), len(ja2en_ene)"
   ]
  },
  {
   "cell_type": "markdown",
   "metadata": {},
   "source": [
    "## 'O'以外のラベルが含まれるようにBCCWJデータをフィルタ"
   ]
  },
  {
   "cell_type": "code",
   "execution_count": 160,
   "metadata": {},
   "outputs": [
    {
     "data": {
      "text/plain": [
       "29397"
      ]
     },
     "execution_count": 160,
     "metadata": {},
     "output_type": "execute_result"
    }
   ],
   "source": [
    "\n",
    "\n",
    "filename = 'gsk-ene-1.1-bccwj-json-jumanpp-type/bccwj-ene-jumanpp-type.txt'\n",
    "# def dataset_reader(filename):\n",
    "with open(filename) as f:\n",
    "    txt = f.read()\n",
    "    sentences = []\n",
    "    for sentence in txt.split('\\n\\n'):\n",
    "        sentence_ = []\n",
    "        __labels = []\n",
    "        for line in sentence.split('\\n'):\n",
    "            if len(line.split(' ')) == 4:\n",
    "                surface, pos, chunk, label = line.split(' ')\n",
    "                sentence_.append({'surface': surface, 'pos': pos, 'chunk': chunk, 'label': label})\n",
    "                __labels.append(label)\n",
    "#             else:\n",
    "#                 print(line)\n",
    "        if sentence_ and len(set(__labels)) > 1:\n",
    "            sentences.append(sentence_)\n",
    "len(sentences)  # type: 29397"
   ]
  },
  {
   "cell_type": "code",
   "execution_count": 161,
   "metadata": {},
   "outputs": [
    {
     "data": {
      "text/plain": [
       "16863"
      ]
     },
     "execution_count": 161,
     "metadata": {},
     "output_type": "execute_result"
    }
   ],
   "source": [
    "sentences_org = [sentence for sentence in sentences if any(line['label'].split('-')[1] in ENE_SUBSET for line in sentence if len(line['label'].split('-'))==2)]\n",
    "len(sentences_org)  # 29497 -> 16863(人物・組織サブセット) -> 1351(Company)\n"
   ]
  },
  {
   "cell_type": "code",
   "execution_count": 162,
   "metadata": {},
   "outputs": [],
   "source": [
    "all_entities = [[line for line in sentence if len(line['label'].split('-'))==2 and line['label'].split('-')[1] in ENE_SUBSET] for sentence in sentences_org]\n",
    "assert len(all_entities) == len(sentences_org)"
   ]
  },
  {
   "cell_type": "code",
   "execution_count": 163,
   "metadata": {},
   "outputs": [],
   "source": [
    "# ents = [\n",
    "#  [{'surface': 'バンプレスト', 'pos': '名詞', 'label': 'B-ORGANIZATION'}],\n",
    "#  [{'surface': 'ヨドバシ', 'pos': '名詞', 'label': 'B-ORGANIZATION'},\n",
    "#   {'surface': 'ビッグ', 'pos': '形容詞', 'label': 'B-ORGANIZATION'},\n",
    "#   {'surface': 'カメラ', 'pos': '名詞', 'label': 'I-ORGANIZATION'},\n",
    "#   {'surface': 'ゲオ', 'pos': '名詞', 'label': 'B-ORGANIZATION'},\n",
    "#   {'surface': 'ＭＲ．', 'pos': '名詞', 'label': 'B-ORGANIZATION'},\n",
    "#   {'surface': 'ＭＡＸ', 'pos': '名詞', 'label': 'I-ORGANIZATION'}],\n",
    "#  [{'surface': 'ＴＯＫＵＪＩＲＯＵ', 'pos': '未定義語', 'label': 'B-ORGANIZATION'}]\n",
    "# ]\n",
    "\n",
    "def make_patterns(entities_sentences):\n",
    "    patterns = []\n",
    "    for entities in entities_sentences:\n",
    "        surfs = []\n",
    "        for ent in entities:  # ent: surface, label\n",
    "            label = ent['label'].split('-')[1]\n",
    "            if ent['label'].startswith('B-'):\n",
    "                if surfs:\n",
    "                    pattern = surfs[0] if len(surfs) == 1 else [{'lower': surf.lower()} for surf in surfs]\n",
    "                    patterns.append({'label': label, 'pattern': pattern})\n",
    "                surfs = [ent['surface']]\n",
    "            elif ent['label'].startswith('I-'):\n",
    "                surfs.append(ent['surface'])\n",
    "        if surfs:\n",
    "            pattern = surfs[0] if len(surfs) == 1 else [{'lower': surf.lower()} for surf in surfs]\n",
    "            patterns.append({'label': label, 'pattern': pattern})\n",
    "\n",
    "    return patterns\n",
    "\n",
    "all_patterns = make_patterns(all_entities)"
   ]
  },
  {
   "cell_type": "code",
   "execution_count": 164,
   "metadata": {},
   "outputs": [
    {
     "data": {
      "text/plain": [
       "[{'label': 'Person',\n",
       "  'pattern': [{'lower': '環境'},\n",
       "   {'lower': '文明'},\n",
       "   {'lower': '研究'},\n",
       "   {'lower': '所'},\n",
       "   {'lower': '所長'}]},\n",
       " {'label': 'Person', 'pattern': [{'lower': '加藤'}, {'lower': '三郎'}]},\n",
       " {'label': 'Corporation_Other',\n",
       "  'pattern': [{'lower': 'ｓａｂｕｒｏ'}, {'lower': '\\u3000'}, {'lower': 'ｋａｔｏ'}]},\n",
       " {'label': 'Corporation_Other', 'pattern': [{'lower': '共同'}, {'lower': '通信'}]},\n",
       " {'label': 'Position_Vocation', 'pattern': 'サラリーマン'},\n",
       " {'label': 'Position_Vocation',\n",
       "  'pattern': [{'lower': 'リサイクル'}, {'lower': '事業'}, {'lower': '者'}]},\n",
       " {'label': 'Position_Vocation', 'pattern': '学者'},\n",
       " {'label': 'Position_Vocation',\n",
       "  'pattern': [{'lower': 'ｏｅｃｄ'}, {'lower': '諸国'}]},\n",
       " {'label': 'Position_Vocation', 'pattern': [{'lower': '労働'}, {'lower': '者'}]},\n",
       " {'label': 'Corporation_Other',\n",
       "  'pattern': [{'lower': '生活'}, {'lower': '協同'}, {'lower': '組合'}]}]"
      ]
     },
     "execution_count": 164,
     "metadata": {},
     "output_type": "execute_result"
    }
   ],
   "source": [
    "all_patterns[:10]"
   ]
  },
  {
   "cell_type": "markdown",
   "metadata": {},
   "source": [
    "## 知識ベースをフィルタ"
   ]
  },
  {
   "cell_type": "code",
   "execution_count": 165,
   "metadata": {},
   "outputs": [
    {
     "data": {
      "text/plain": [
       "(386768, {'CONCEPT', 'IGNORED'})"
      ]
     },
     "execution_count": 165,
     "metadata": {},
     "output_type": "execute_result"
    }
   ],
   "source": [
    "ja2en_enesub = {en2ja_ene[k]: k for k in ENE_SUBSET}\n",
    "sid2dict_filtered = {}\n",
    "__ignored_set = set()\n",
    "for k, v in sid2dict.items():\n",
    "    if v['ENE']:\n",
    "        enesub = []\n",
    "        for ene in v['ENE']:\n",
    "            if ene in ja2en_enesub:\n",
    "                enesub.append(ja2en_enesub[ene])\n",
    "            elif ene not in ja2en_ene:\n",
    "                __ignored_set.add(ene)\n",
    "        if enesub:\n",
    "            v['ENE_SUBSET'] = enesub\n",
    "            sid2dict_filtered[k] = v\n",
    "len(sid2dict_filtered), __ignored_set  # -> 582349, 386768(Normal)"
   ]
  },
  {
   "cell_type": "code",
   "execution_count": 166,
   "metadata": {},
   "outputs": [
    {
     "data": {
      "text/plain": [
       "{'entry': 'パリ',\n",
       " 'clean_entry': 'パリ',\n",
       " 'category_info': ['パリ|*', 'フランスの都市', 'ヨーロッパの首都', 'フランスの地域圏首府', '世界歴史都市連盟'],\n",
       " 'ENE': ['市区町村名'],\n",
       " 'ENE_SUBSET': ['City']}"
      ]
     },
     "execution_count": 166,
     "metadata": {},
     "output_type": "execute_result"
    }
   ],
   "source": [
    "sid2dict_filtered[8]"
   ]
  },
  {
   "cell_type": "markdown",
   "metadata": {},
   "source": [
    "## エントリを文節単位に形態素解析"
   ]
  },
  {
   "cell_type": "markdown",
   "metadata": {},
   "source": [
    "### BCCWJ\n",
    "- chunkingがなされていること想定"
   ]
  },
  {
   "cell_type": "markdown",
   "metadata": {},
   "source": [
    "### wiki+ENE"
   ]
  },
  {
   "cell_type": "markdown",
   "metadata": {},
   "source": [
    "- ID -> エントリー(複合語)"
   ]
  },
  {
   "cell_type": "code",
   "execution_count": 168,
   "metadata": {
    "scrolled": false
   },
   "outputs": [
    {
     "name": "stdout",
     "output_type": "stream",
     "text": [
      "Dreamers〜EXILE VOCAL BATTLE AUDITION FINALIST〜\n"
     ]
    },
    {
     "data": {
      "text/plain": [
       "386767"
      ]
     },
     "execution_count": 168,
     "metadata": {},
     "output_type": "execute_result"
    }
   ],
   "source": [
    "# from knp_base import KnpBase, KnpError\n",
    "\n",
    "knp = KnpBase(knp=KNP(jumanpp=True, option='-bnst -tab'))\n",
    "\n",
    "sid2entry = {sid: v['clean_entry'] for sid, v in sid2dict_filtered.items()}\n",
    "sid2wakati = {}\n",
    "for sid, entry in sid2entry.items():\n",
    "    try:\n",
    "        blist = knp.parse(entry)\n",
    "        np_tags = annotate_np(blist)\n",
    "        tokens = [m.midasi for m in blist.mrph_list()]\n",
    "        sid2wakati[sid] = {'tokens': tokens, 'tags': np_tags}\n",
    "    except KnpError:\n",
    "        print(entry)\n",
    "len(sid2wakati)  # 386767(Normal)"
   ]
  },
  {
   "cell_type": "code",
   "execution_count": 169,
   "metadata": {},
   "outputs": [
    {
     "data": {
      "text/plain": [
       "380648"
      ]
     },
     "execution_count": 169,
     "metadata": {},
     "output_type": "execute_result"
    }
   ],
   "source": [
    "# Chunkの定義 := tagが '^BI*$' となるパターン\n",
    "# 誤って文節分かれる名詞句 AB のパターン: 名詞と名詞性形容詞語幹, その他品詞誤り\n",
    "# '西郷(名詞)隆盛(形容詞)' '新党(名詞)平和(形容詞)'\n",
    "\n",
    "\n",
    "def ordered_uniq(seq):\n",
    "    seen = set()\n",
    "    seen_add = seen.add\n",
    "    return [x for x in seq if x not in seen and not seen_add(x)]\n",
    "\n",
    "def is_chunk(tags):\n",
    "    tags_uniq = ''.join(ordered_uniq(tag.split('-')[0] for tag in tags))\n",
    "    return (len(tags)==1 and tags_uniq == 'B') or tags_uniq == 'BI'\n",
    "\n",
    "sid2wakati_multi = {sid: ' '.join(d['tokens']) for sid, d in sid2wakati.items() if is_chunk(d['tags'])}\n",
    "sid2wakati_rest = {sid: ' '.join(d['tokens']) for sid, d in sid2wakati.items() if not is_chunk(d['tags'])}\n",
    "\n",
    "# sid2wakati_single = {sid: entry_w for sid, entry_w in sid2wakati.items() if len(entry_w.split(' ')) == 1}\n",
    "len(sid2wakati_multi)  # 582311 -> 94507(single), 567968(multi) + 14343(rest), 380648(multi, Normal)"
   ]
  },
  {
   "cell_type": "code",
   "execution_count": 170,
   "metadata": {},
   "outputs": [
    {
     "data": {
      "text/plain": [
       "[(98, '村上 もと か'),\n",
       " (161, 'ここ まひ'),\n",
       " (251, 'あろ ひろし'),\n",
       " (452, '坂口 いく'),\n",
       " (1137, '本 の 雑誌 社'),\n",
       " (1313, '日本 の アナウンサー'),\n",
       " (1349, '三 山 のぼる'),\n",
       " (2381, '日本 の 空港'),\n",
       " (2432, '日本 の 行政 機関'),\n",
       " (2519, 'デニス ・ リッチー'),\n",
       " (3037, 'くぅ〜 ちゃん'),\n",
       " (5936, '第 一 勧業 銀行'),\n",
       " (7728, 'こども の 国 駅'),\n",
       " (8565, '徳川 氏'),\n",
       " (8675, '藤岡 弘 、'),\n",
       " (9760, '徳川 御 三 家'),\n",
       " (10771, '豊臣 氏'),\n",
       " (10975, '三鷹 の 森 ジブリ 美術 館'),\n",
       " (10997, '茨城 県立 取手 第 二 高等 学校'),\n",
       " (11285, 'プロフェッショナル'),\n",
       " (11921, 'ハロー ！ プロジェクト'),\n",
       " (12371, 'Ｄ － ５１'),\n",
       " (12440, '得川 氏'),\n",
       " (12523, '世良田 氏'),\n",
       " (12579, '酒井 氏'),\n",
       " (12933, '不当'),\n",
       " (12981, 'お 台場 海浜 公園 駅'),\n",
       " (13264, 'Ｑｕａｒｋ ， \\u3000 Ｉｎｃ．'),\n",
       " (13417, 'アンワル ・ アッ ＝ サーダート'),\n",
       " (14099, '夢路 いとし')]"
      ]
     },
     "execution_count": 170,
     "metadata": {},
     "output_type": "execute_result"
    }
   ],
   "source": [
    "list(sid2wakati_rest.items())[:30]"
   ]
  },
  {
   "cell_type": "markdown",
   "metadata": {},
   "source": [
    "- エントリー(複合語) -> ID"
   ]
  },
  {
   "cell_type": "code",
   "execution_count": 171,
   "metadata": {},
   "outputs": [
    {
     "data": {
      "text/plain": [
       "(380648, 368274)"
      ]
     },
     "execution_count": 171,
     "metadata": {},
     "output_type": "execute_result"
    }
   ],
   "source": [
    "from collections import defaultdict\n",
    "\n",
    "entry_w2sids = defaultdict(list)\n",
    "for sid, ew in sid2wakati_multi.items():\n",
    "    entry_w2sids[''.join(ew.split(' '))].append(sid)\n",
    "len(sid2wakati_multi), len(entry_w2sids)  # (567968, 550779) -> (380648, 368274) (Normal)"
   ]
  },
  {
   "cell_type": "code",
   "execution_count": 172,
   "metadata": {},
   "outputs": [
    {
     "data": {
      "text/plain": [
       "[685529]"
      ]
     },
     "execution_count": 172,
     "metadata": {},
     "output_type": "execute_result"
    }
   ],
   "source": [
    "entry_w2sids['東京']"
   ]
  },
  {
   "cell_type": "code",
   "execution_count": 173,
   "metadata": {},
   "outputs": [
    {
     "data": {
      "text/plain": [
       "{'entry': '東京',\n",
       " 'clean_entry': '東京',\n",
       " 'category_info': ['日本の都市', '東京都|*', '都道府県庁所在地', '関東地方'],\n",
       " 'ENE': ['市区町村名'],\n",
       " 'ENE_SUBSET': ['City']}"
      ]
     },
     "execution_count": 173,
     "metadata": {},
     "output_type": "execute_result"
    }
   ],
   "source": [
    "sid2dict_filtered[685529]"
   ]
  },
  {
   "cell_type": "markdown",
   "metadata": {},
   "source": [
    "### 名詞句候補からマッチする部分名詞句を検出"
   ]
  },
  {
   "cell_type": "code",
   "execution_count": 174,
   "metadata": {},
   "outputs": [
    {
     "data": {
      "text/plain": [
       "[150537]"
      ]
     },
     "execution_count": 174,
     "metadata": {},
     "output_type": "execute_result"
    }
   ],
   "source": [
    "entry_w2sids['東京都知事']  # 東京+都+知事"
   ]
  },
  {
   "cell_type": "code",
   "execution_count": 175,
   "metadata": {},
   "outputs": [
    {
     "data": {
      "text/plain": [
       "{'entry': '東京都知事',\n",
       " 'clean_entry': '東京都知事',\n",
       " 'category_info': ['東京都知事|*'],\n",
       " 'ENE': ['地位職業名'],\n",
       " 'ENE_SUBSET': ['Position_Vocation']}"
      ]
     },
     "execution_count": 175,
     "metadata": {},
     "output_type": "execute_result"
    }
   ],
   "source": [
    "sid2dict_filtered[150537]"
   ]
  },
  {
   "cell_type": "code",
   "execution_count": 176,
   "metadata": {},
   "outputs": [
    {
     "data": {
      "text/plain": [
       "([], [], [])"
      ]
     },
     "execution_count": 176,
     "metadata": {},
     "output_type": "execute_result"
    }
   ],
   "source": [
    "entry_w2sids['東京都知事直轄'], entry_w2sids['地区'], entry_w2sids['邸宅']"
   ]
  },
  {
   "cell_type": "code",
   "execution_count": 177,
   "metadata": {},
   "outputs": [
    {
     "data": {
      "text/plain": [
       "[]"
      ]
     },
     "execution_count": 177,
     "metadata": {},
     "output_type": "execute_result"
    }
   ],
   "source": [
    "entry_w2sids['前東京都知事']"
   ]
  },
  {
   "cell_type": "code",
   "execution_count": 47,
   "metadata": {},
   "outputs": [],
   "source": [
    "def tokenize_and_chunking(entry, knp):\n",
    "    blist = knp.parse(entry)\n",
    "    np_tags = annotate_np(blist)\n",
    "    tokens = [m.midasi for m in blist.mrph_list()]\n",
    "    return tokens, np_tags"
   ]
  },
  {
   "cell_type": "code",
   "execution_count": 48,
   "metadata": {},
   "outputs": [
    {
     "data": {
      "text/plain": [
       "(['東京', '都', '知事', '直轄', 'の', '地区'],\n",
       " ['B-NP', 'I-NP', 'I-NP', 'I-NP', 'O', 'B-NP'])"
      ]
     },
     "execution_count": 48,
     "metadata": {},
     "output_type": "execute_result"
    }
   ],
   "source": [
    "entry = '東京都知事直轄の地区'\n",
    "tokenize_and_chunking(entry, knp)"
   ]
  },
  {
   "cell_type": "code",
   "execution_count": 49,
   "metadata": {},
   "outputs": [
    {
     "data": {
      "text/plain": [
       "(['前', '東京', '都', '知事', 'の', '邸宅'],\n",
       " ['B-NP', 'I-NP', 'I-NP', 'I-NP', 'O', 'B-NP'])"
      ]
     },
     "execution_count": 49,
     "metadata": {},
     "output_type": "execute_result"
    }
   ],
   "source": [
    "entry = '前東京都知事の邸宅'\n",
    "tokenize_and_chunking(entry, knp)"
   ]
  },
  {
   "cell_type": "code",
   "execution_count": null,
   "metadata": {},
   "outputs": [],
   "source": []
  },
  {
   "cell_type": "code",
   "execution_count": 178,
   "metadata": {},
   "outputs": [
    {
     "name": "stdout",
     "output_type": "stream",
     "text": [
      "[{'from': 0, 'to': 3, 'match_from': 0, 'match_to': 3, 'tokens': '東京 都 知事', 'full_tokens': '東京 都 知事'}]\n",
      "[{'from': 0, 'to': 4, 'match_from': 0, 'match_to': 3, 'tokens': '東京 都 知事', 'full_tokens': '東京 都 知事 直轄'}]\n",
      "[{'from': 0, 'to': 4, 'match_from': 1, 'match_to': 4, 'tokens': '東京 都 知事', 'full_tokens': '前 東京 都 知事'}]\n",
      "[None]\n"
     ]
    }
   ],
   "source": [
    "from knp_base import KnpBase\n",
    "\n",
    "class KNPNPMacher:\n",
    "    \"\"\" 名詞句候補集合(db)にマッチする部分名詞句を検出 \"\"\"\n",
    "    \n",
    "    def __init__(self, db):\n",
    "        self.knp = KnpBase(knp=KNP(jumanpp=True, option='-bnst -tab'))\n",
    "        self.db = db\n",
    "\n",
    "    def __tokenize_and_chunking(self, entry):\n",
    "        blist = self.knp.parse(entry)\n",
    "        np_tags = annotate_np(blist)\n",
    "        tokens = [m.midasi for m in blist.mrph_list()]\n",
    "        return tokens, np_tags\n",
    "\n",
    "    @staticmethod\n",
    "    def extract_chunks(tokens, np_tags):\n",
    "        chunks = []\n",
    "        chunk = {}\n",
    "        current_tag = 'O'\n",
    "        for idx, (token, tag) in enumerate(zip(tokens, np_tags)):\n",
    "            if tag != 'O':\n",
    "                if current_tag == 'O':  # B-\n",
    "                    chunk['token'] = [token]\n",
    "                    chunk['from'] = idx\n",
    "                    current_tag = tag\n",
    "                else:  # I-\n",
    "                    chunk['token'].append(token)\n",
    "                    current_tag = tag\n",
    "            elif current_tag != 'O':  # O-\n",
    "                chunk['to'] = idx\n",
    "                chunks.append(chunk)\n",
    "                chunk = {}\n",
    "                current_tag = 'O'\n",
    "        if chunk:\n",
    "            chunk['to'] = idx + 1\n",
    "            chunks.append(chunk)\n",
    "        return chunks\n",
    "\n",
    "    def extract_chunks_from_string(self, entry):\n",
    "        tokens, np_tags = self.__tokenize_and_chunking(entry)\n",
    "        return self.extract_chunks(tokens, np_tags)\n",
    "\n",
    "    def try_matching(self, chunk):\n",
    "        if ''.join(chunk) in self.db:\n",
    "            return 0\n",
    "\n",
    "        max_prefix_chunk, max_prefix_i = '', None\n",
    "        max_suffix_chunk, max_suffix_i = '', None\n",
    "        for i in range(1, len(chunk) + 1):\n",
    "            prefix_chunk_i = ''.join(chunk[:i])\n",
    "            if prefix_chunk_i in self.db:\n",
    "                max_prefix_chunk = prefix_chunk_i\n",
    "                max_prefix_i = i\n",
    "            suffix_chunk_i = ''.join(chunk[-i:])\n",
    "            if suffix_chunk_i in self.db:\n",
    "                max_suffix_chunk = suffix_chunk_i\n",
    "                max_suffix_i = i\n",
    "        # suffix-match > prefix-match: 主辞は末尾によりがちと仮定(接尾辞が邪魔するケースは妥協)\n",
    "        if max_suffix_chunk:\n",
    "            return -max_suffix_i\n",
    "        elif max_prefix_chunk:\n",
    "            return max_prefix_i\n",
    "        else:\n",
    "            return None\n",
    "\n",
    "    def match_chunks_from_string(self, entry):\n",
    "        chunks = self.extract_chunks_from_string(entry)\n",
    "        return self.match_chunks(chunks)\n",
    "        \n",
    "    def match_chunks(self, chunks):\n",
    "        results = []\n",
    "        for chunk in chunks:\n",
    "            chunk_tokens = chunk['token']\n",
    "            result_i = self.try_matching(chunk_tokens)\n",
    "            if result_i is not None:\n",
    "                if result_i == 0:\n",
    "                    results.append( {'from': chunk['from'], 'to': chunk['to'], 'match_from': chunk['from'], 'match_to': chunk['to'], 'tokens': ' '.join(chunk_tokens), 'full_tokens': ' '.join(chunk_tokens)} )\n",
    "                elif result_i < 0:\n",
    "                    results.append( {'from': chunk['from'], 'to': chunk['to'], 'match_from': chunk['to'] + result_i, 'match_to': chunk['to'], 'tokens': ' '.join(chunk_tokens[result_i:]), 'full_tokens': ' '.join(chunk_tokens)} )\n",
    "                else:\n",
    "                    results.append( {'from': chunk['from'], 'to': chunk['to'], 'match_from': chunk['from'], 'match_to': chunk['from'] + result_i, 'tokens': ' '.join(chunk_tokens[:result_i]), 'full_tokens': ' '.join(chunk_tokens)} )\n",
    "            else:\n",
    "                results.append(None)\n",
    "        return results\n",
    "\n",
    "\n",
    "\n",
    "db = {'東京都知事'}\n",
    "npm = KNPNPMacher(db)\n",
    "entry = '東京都知事'\n",
    "print(npm.match_chunks_from_string(entry))\n",
    "entry = '東京都知事直轄'\n",
    "print(npm.match_chunks_from_string(entry))\n",
    "entry = '前東京都知事'\n",
    "print(npm.match_chunks_from_string(entry))\n",
    "entry = '前東京都知事直轄'\n",
    "print(repr(npm.match_chunks_from_string(entry)))\n"
   ]
  },
  {
   "cell_type": "code",
   "execution_count": 179,
   "metadata": {
    "scrolled": true
   },
   "outputs": [
    {
     "name": "stdout",
     "output_type": "stream",
     "text": [
      "[{'token': ['天領', '・', '日田'], 'from': 1, 'to': 4}, {'token': ['咸宜', '園'], 'from': 5, 'to': 7}, {'token': ['筑紫', '哲也'], 'from': 8, 'to': 10}, {'token': ['小鹿田焼窯主'], 'from': 12, 'to': 13}, {'token': ['坂本', '茂木'], 'from': 14, 'to': 16}]\n"
     ]
    },
    {
     "data": {
      "text/plain": [
       "[None,\n",
       " None,\n",
       " {'from': 8,\n",
       "  'to': 10,\n",
       "  'match_from': 8,\n",
       "  'match_to': 10,\n",
       "  'tokens': '筑紫 哲也',\n",
       "  'full_tokens': '筑紫 哲也'},\n",
       " None,\n",
       " {'from': 14,\n",
       "  'to': 16,\n",
       "  'match_from': 14,\n",
       "  'match_to': 15,\n",
       "  'tokens': '坂本',\n",
       "  'full_tokens': '坂本 茂木'}]"
      ]
     },
     "execution_count": 179,
     "metadata": {},
     "output_type": "execute_result"
    }
   ],
   "source": [
    "db = {k for k, v in entry_w2sids.items() if v}\n",
    "npm = KNPNPMacher(db)\n",
    "\n",
    "sentence = sentences_org[6]\n",
    "\n",
    "tokens = [line['surface'] for line in sentence]\n",
    "np_tags = [line['chunk'] for line in sentence]\n",
    "chunks = npm.extract_chunks(tokens, np_tags)\n",
    "print(chunks)\n",
    "npm.match_chunks(chunks)\n",
    "# npm.match_chunks([['加藤', '三郎']])"
   ]
  },
  {
   "cell_type": "markdown",
   "metadata": {},
   "source": [
    "## 知識ベースエントリ素性をBCCWJデータに付与"
   ]
  },
  {
   "cell_type": "code",
   "execution_count": 180,
   "metadata": {},
   "outputs": [],
   "source": [
    "from collections import Counter\n",
    "\n",
    "db = {k for k, v in entry_w2sids.items() if v}\n",
    "npm = KNPNPMacher(db)\n",
    "\n",
    "# sid2wakati_single\n",
    "# sentences_org\n",
    "\n",
    "for sentence in sentences_org:\n",
    "    for line in sentence:\n",
    "        if len(line['label'].split('-')) == 2:\n",
    "            enetype = line['label'].split('-')[1]\n",
    "            if enetype not in ENE_SUBSET:\n",
    "                line['label'] = 'O'\n",
    "#         line['knowledgebase_sids'] = 'O'\n",
    "        line['knowledgebase_enes'] = 'O'\n",
    "    # NP-Matching\n",
    "    tokens = [line['surface'] for line in sentence]\n",
    "    np_tags = [line['chunk'] for line in sentence]\n",
    "    chunks = npm.extract_chunks(tokens, np_tags)\n",
    "    matches = npm.match_chunks(chunks)\n",
    "    for m in matches:\n",
    "        if m is not None:\n",
    "            sids = entry_w2sids[''.join(m['tokens'].split(' '))]\n",
    "            sids_str = '##'.join(map(str, sids))\n",
    "#             ene_types = [[ja2en_enesub[ene] for ene in sid2dict_filtered[sid]['ENE'] if ene in ja2en_enesub] for sid in sids]\n",
    "            ene_types = [ja2en_enesub[ene] for sid in sids for ene in sid2dict_filtered[sid]['ENE'] if ene in ja2en_enesub]\n",
    "            # 頻出のENEタイプを選択\n",
    "            ene_type = Counter(ene_types).most_common()[0][0]\n",
    "                \n",
    "            for idx in range(m['match_from'], m['match_to']):\n",
    "                line = sentence[idx]\n",
    "                if idx == m['match_from']:\n",
    "#                 line['knowledgebase_sids'] = sids_str\n",
    "                    line['knowledgebase_enes'] = f'B-{ene_type}'\n",
    "                else:\n",
    "                    line['knowledgebase_enes'] = f'I-{ene_type}'\n",
    "            \n"
   ]
  },
  {
   "cell_type": "code",
   "execution_count": 181,
   "metadata": {},
   "outputs": [
    {
     "data": {
      "text/plain": [
       "[{'surface': '。',\n",
       "  'pos': '特殊',\n",
       "  'chunk': 'O',\n",
       "  'label': 'O',\n",
       "  'knowledgebase_enes': 'O'},\n",
       " {'surface': '天領',\n",
       "  'pos': '名詞',\n",
       "  'chunk': 'B-NP',\n",
       "  'label': 'B-GPE_Other',\n",
       "  'knowledgebase_enes': 'O'},\n",
       " {'surface': '・',\n",
       "  'pos': '特殊',\n",
       "  'chunk': 'I-NP',\n",
       "  'label': 'I-GPE_Other',\n",
       "  'knowledgebase_enes': 'O'},\n",
       " {'surface': '日田',\n",
       "  'pos': '名詞',\n",
       "  'chunk': 'I-NP',\n",
       "  'label': 'I-GPE_Other',\n",
       "  'knowledgebase_enes': 'O'},\n",
       " {'surface': 'の',\n",
       "  'pos': '助詞',\n",
       "  'chunk': 'O',\n",
       "  'label': 'O',\n",
       "  'knowledgebase_enes': 'O'},\n",
       " {'surface': '咸宜',\n",
       "  'pos': '名詞',\n",
       "  'chunk': 'B-NP',\n",
       "  'label': 'B-School',\n",
       "  'knowledgebase_enes': 'O'},\n",
       " {'surface': '園',\n",
       "  'pos': '名詞',\n",
       "  'chunk': 'I-NP',\n",
       "  'label': 'I-School',\n",
       "  'knowledgebase_enes': 'O'},\n",
       " {'surface': 'へ',\n",
       "  'pos': '助詞',\n",
       "  'chunk': 'O',\n",
       "  'label': 'O',\n",
       "  'knowledgebase_enes': 'O'},\n",
       " {'surface': '筑紫',\n",
       "  'pos': '名詞',\n",
       "  'chunk': 'B-NP',\n",
       "  'label': 'B-Person',\n",
       "  'knowledgebase_enes': 'B-Person'},\n",
       " {'surface': '哲也',\n",
       "  'pos': '名詞',\n",
       "  'chunk': 'I-NP',\n",
       "  'label': 'I-Person',\n",
       "  'knowledgebase_enes': 'I-Person'},\n",
       " {'surface': 'さん',\n",
       "  'pos': '接尾辞',\n",
       "  'chunk': 'O',\n",
       "  'label': 'O',\n",
       "  'knowledgebase_enes': 'O'},\n",
       " {'surface': 'と',\n",
       "  'pos': '助詞',\n",
       "  'chunk': 'O',\n",
       "  'label': 'O',\n",
       "  'knowledgebase_enes': 'O'},\n",
       " {'surface': '小鹿田焼窯主',\n",
       "  'pos': '名詞',\n",
       "  'chunk': 'B-NP',\n",
       "  'label': 'B-Position_Vocation',\n",
       "  'knowledgebase_enes': 'O'},\n",
       " {'surface': 'の',\n",
       "  'pos': '助詞',\n",
       "  'chunk': 'O',\n",
       "  'label': 'O',\n",
       "  'knowledgebase_enes': 'O'},\n",
       " {'surface': '坂本',\n",
       "  'pos': '名詞',\n",
       "  'chunk': 'B-NP',\n",
       "  'label': 'B-Person',\n",
       "  'knowledgebase_enes': 'B-City'},\n",
       " {'surface': '茂木',\n",
       "  'pos': '名詞',\n",
       "  'chunk': 'I-NP',\n",
       "  'label': 'I-Person',\n",
       "  'knowledgebase_enes': 'O'},\n",
       " {'surface': 'さん',\n",
       "  'pos': '接尾辞',\n",
       "  'chunk': 'O',\n",
       "  'label': 'O',\n",
       "  'knowledgebase_enes': 'O'},\n",
       " {'surface': '。',\n",
       "  'pos': '特殊',\n",
       "  'chunk': 'O',\n",
       "  'label': 'O',\n",
       "  'knowledgebase_enes': 'O'}]"
      ]
     },
     "execution_count": 181,
     "metadata": {},
     "output_type": "execute_result"
    }
   ],
   "source": [
    "sentences_org[6]"
   ]
  },
  {
   "cell_type": "markdown",
   "metadata": {},
   "source": [
    "辞書が悪さする例\n",
    "\n",
    " {'surface': 'ランド',\n",
    "  'pos': '名詞',\n",
    "  'label': 'O',\n",
    "  'knowledgebase_sids': '519762##1176859',\n",
    "  'knowledgebase_enes': 'B-Company##B-Person'},"
   ]
  },
  {
   "cell_type": "markdown",
   "metadata": {},
   "source": [
    "辞書が効く例\n",
    "\n",
    " {'surface': 'バンプレスト',\n",
    "  'pos': '名詞',\n",
    "  'label': 'B-Company',\n",
    "  'knowledgebase_sids': '77140',\n",
    "  'knowledgebase_enes': 'B-Company'},"
   ]
  },
  {
   "cell_type": "code",
   "execution_count": 182,
   "metadata": {},
   "outputs": [],
   "source": [
    "# ファイル書き出し\n",
    "\n",
    "#  {'surface': 'ランド',\n",
    "#   'pos': '名詞',\n",
    "#   'label': 'O',\n",
    "#   'knowlegebase_sids': '519762##1176859',\n",
    "#   'knowlegebase_enes': 'B-Company##B-Person'},\n",
    "\n",
    "with open('gsk-ene-1.1-bccwj-json-jumanpp-type/bccwj-ene-jumanpp-type-ene-multi.txt', 'w') as f:\n",
    "    for sentence in sentences_org:\n",
    "        for line in sentence:\n",
    "            s = f'{line[\"surface\"]} {line[\"pos\"]} {line[\"chunk\"]} {line[\"knowledgebase_enes\"]} {line[\"label\"]}\\n'\n",
    "            f.write(s)\n",
    "        f.write('\\n')"
   ]
  }
 ],
 "metadata": {
  "kernelspec": {
   "display_name": "Python 3",
   "language": "python",
   "name": "python3"
  },
  "language_info": {
   "codemirror_mode": {
    "name": "ipython",
    "version": 3
   },
   "file_extension": ".py",
   "mimetype": "text/x-python",
   "name": "python",
   "nbconvert_exporter": "python",
   "pygments_lexer": "ipython3",
   "version": "3.7.4"
  }
 },
 "nbformat": 4,
 "nbformat_minor": 2
}
